{
 "cells": [
  {
   "cell_type": "code",
   "execution_count": 1,
   "id": "cb7b2f64",
   "metadata": {},
   "outputs": [],
   "source": [
    "#Nikhil Kagalwala\n",
    "#Nick Project"
   ]
  },
  {
   "cell_type": "code",
   "execution_count": 2,
   "id": "a83c4229",
   "metadata": {},
   "outputs": [],
   "source": [
    "import csv\n",
    "import pandas as pd\n",
    "import matplotlib.pyplot as plt\n",
    "from datetime import datetime \n",
    "from datetime import date\n",
    "from calendar import monthrange\n",
    "\n",
    "%matplotlib inline"
   ]
  },
  {
   "cell_type": "code",
   "execution_count": 3,
   "id": "9e25d4ef",
   "metadata": {},
   "outputs": [],
   "source": [
    "df = pd.read_csv(\"September 2021 Count Report.csv\")"
   ]
  },
  {
   "cell_type": "code",
   "execution_count": 4,
   "id": "9cea9c31",
   "metadata": {},
   "outputs": [],
   "source": [
    "#get month and year from csv\n",
    "date_arr = (df[\"Date\"][0]).split(\"/\")\n",
    "year = int(date_arr[2][:4])\n",
    "month = int(date_arr[0])\n",
    "#get (first day of month, num of days in month)\n",
    "monthData = monthrange(year,month)\n",
    "\n",
    "#create 2D array for each day of the week (starting with monday), initialize it\n",
    "# [i,j] = day of the week -> all dates of month that are on this day\n",
    "# [0,0] = sep_6 (first monday of the month)\n",
    "\n",
    "daysOfWeekData = [None, None, None, None, None, None, None]\n",
    "for i in range(1, monthData[1] + 1):\n",
    "    strDate = str(month) + \"/\" + str(i) + \"/\" + str(year) + \" 0:00\"\n",
    "    data = df[df[\"Date\"] == strDate]\n",
    "    index = ((i + monthData[0]) % 7) - 1\n",
    "    #define each first day of day of week\n",
    "    if (i < 8):\n",
    "        if (index == -1):\n",
    "            index = 6\n",
    "        daysOfWeekData[index] = [data]\n",
    "    else:\n",
    "        if (index == -1):\n",
    "            index = 6\n",
    "        daysOfWeekData[index].extend([data])"
   ]
  },
  {
   "cell_type": "code",
   "execution_count": 7,
   "id": "3148443b",
   "metadata": {},
   "outputs": [],
   "source": [
    "# data for all days\n",
    "aggDayData = [None, None, None, None, None, None, None]\n",
    "totalCounts = [None, None, None, None, None, None, None]\n",
    "\n",
    "for i in range(7):\n",
    "    aggDayData[i] = pd.concat(daysOfWeekData[i])\n",
    "    totalCounts[i] = aggDayData[i][\"Total Count\"].sum()\n",
    "\n",
    "# empty array used to properly initialize other arrays \n",
    "empty = [None, None, None, None, None, None, None]\n",
    "allRooms = [empty, empty, empty, empty, empty, empty, empty, empty, empty]\n",
    "allRoomNames = [\"Nick Level 1 Fitness\", \"Nick Level 2 Fitness\", \"Nick Level 3 Fitness\",\n",
    "                \"Nick Power House\", \"Nick Track\", \"Soderholm Family Aquatic Center\",\n",
    "                \"Nick Courts 1 & 2\", \"Nick Courts 3-6\", \"Nick Courts 7 & 8\"]\n",
    "allRoomsAvg = [empty, empty, empty, empty, empty, empty, empty, empty, empty]\n",
    "    \n",
    "for i in range(9):\n",
    "    for j in range(7):\n",
    "        allRooms[i][j] = aggDayData[j][aggDayData[j][\"Location\"] == allRoomNames[i]]\n",
    "        allRoomsAvg[i][j] = allRooms[i][j][\"Total Count\"].mean()\n",
    "    "
   ]
  },
  {
   "cell_type": "code",
   "execution_count": 9,
   "id": "57487302",
   "metadata": {},
   "outputs": [
    {
     "ename": "AttributeError",
     "evalue": "'list' object has no attribute 'length'",
     "output_type": "error",
     "traceback": [
      "\u001b[0;31m---------------------------------------------------------------------------\u001b[0m",
      "\u001b[0;31mAttributeError\u001b[0m                            Traceback (most recent call last)",
      "\u001b[0;32m<ipython-input-9-3b0b0e0ffd8b>\u001b[0m in \u001b[0;36m<module>\u001b[0;34m\u001b[0m\n\u001b[1;32m      1\u001b[0m \u001b[0mdaysLabel\u001b[0m \u001b[0;34m=\u001b[0m \u001b[0;34m[\u001b[0m\u001b[0;34m'Mon'\u001b[0m\u001b[0;34m,\u001b[0m \u001b[0;34m'Tue'\u001b[0m\u001b[0;34m,\u001b[0m \u001b[0;34m'Wed'\u001b[0m\u001b[0;34m,\u001b[0m \u001b[0;34m'Thu'\u001b[0m\u001b[0;34m,\u001b[0m \u001b[0;34m'Fri'\u001b[0m\u001b[0;34m,\u001b[0m \u001b[0;34m'Sat'\u001b[0m\u001b[0;34m,\u001b[0m \u001b[0;34m'Sun'\u001b[0m\u001b[0;34m]\u001b[0m\u001b[0;34m\u001b[0m\u001b[0;34m\u001b[0m\u001b[0m\n\u001b[1;32m      2\u001b[0m \u001b[0;34m\u001b[0m\u001b[0m\n\u001b[0;32m----> 3\u001b[0;31m \u001b[0;32mfor\u001b[0m \u001b[0mi\u001b[0m \u001b[0;32min\u001b[0m \u001b[0mrange\u001b[0m\u001b[0;34m(\u001b[0m\u001b[0mallRoomNames\u001b[0m\u001b[0;34m.\u001b[0m\u001b[0mlength\u001b[0m\u001b[0;34m(\u001b[0m\u001b[0;34m)\u001b[0m\u001b[0;34m)\u001b[0m\u001b[0;34m:\u001b[0m\u001b[0;34m\u001b[0m\u001b[0;34m\u001b[0m\u001b[0m\n\u001b[0m\u001b[1;32m      4\u001b[0m     \u001b[0mplt\u001b[0m\u001b[0;34m.\u001b[0m\u001b[0mbar\u001b[0m\u001b[0;34m(\u001b[0m\u001b[0mdaysLabel\u001b[0m\u001b[0;34m,\u001b[0m \u001b[0mallRoomsAvg\u001b[0m\u001b[0;34m[\u001b[0m\u001b[0mi\u001b[0m\u001b[0;34m]\u001b[0m\u001b[0;34m,\u001b[0m \u001b[0mcolor\u001b[0m\u001b[0;34m=\u001b[0m\u001b[0;34m\"#0479a8\"\u001b[0m\u001b[0;34m)\u001b[0m\u001b[0;34m\u001b[0m\u001b[0;34m\u001b[0m\u001b[0m\n\u001b[1;32m      5\u001b[0m     \u001b[0mplt\u001b[0m\u001b[0;34m.\u001b[0m\u001b[0mylabel\u001b[0m\u001b[0;34m(\u001b[0m\u001b[0;34m'Avg Count'\u001b[0m\u001b[0;34m,\u001b[0m \u001b[0mfontsize\u001b[0m\u001b[0;34m=\u001b[0m\u001b[0;36m14\u001b[0m\u001b[0;34m)\u001b[0m\u001b[0;34m\u001b[0m\u001b[0;34m\u001b[0m\u001b[0m\n",
      "\u001b[0;31mAttributeError\u001b[0m: 'list' object has no attribute 'length'"
     ]
    }
   ],
   "source": [
    "daysLabel = ['Mon', 'Tue', 'Wed', 'Thu', 'Fri', 'Sat', 'Sun']\n",
    "\n",
    "for i in range(lenallRoomNames):\n",
    "    plt.bar(daysLabel, allRoomsAvg[i], color=\"#0479a8\")\n",
    "    plt.ylabel('Avg Count', fontsize=14)\n",
    "    plt.xlabel('Day', fontsize=14)\n",
    "    plt.title(allRoomNames[i], fontsize=14)\n",
    "    plt.show()\n"
   ]
  },
  {
   "cell_type": "code",
   "execution_count": null,
   "id": "6ab28b44",
   "metadata": {},
   "outputs": [],
   "source": []
  }
 ],
 "metadata": {
  "kernelspec": {
   "display_name": "Python 3",
   "language": "python",
   "name": "python3"
  },
  "language_info": {
   "codemirror_mode": {
    "name": "ipython",
    "version": 3
   },
   "file_extension": ".py",
   "mimetype": "text/x-python",
   "name": "python",
   "nbconvert_exporter": "python",
   "pygments_lexer": "ipython3",
   "version": "3.8.8"
  }
 },
 "nbformat": 4,
 "nbformat_minor": 5
}
